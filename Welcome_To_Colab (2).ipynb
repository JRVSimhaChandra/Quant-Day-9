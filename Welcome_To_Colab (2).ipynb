{
  "cells": [
    {
      "cell_type": "markdown",
      "source": [
        "Pricing over a range of days"
      ],
      "metadata": {
        "id": "eL61xXCVAkwB"
      }
    },
    {
      "cell_type": "code",
      "source": [
        "!pip install QuantLib\n",
        "from QuantLib import *\n",
        "import numpy as np\n",
        "np.random.seed(42)"
      ],
      "metadata": {
        "colab": {
          "base_uri": "https://localhost:8080/"
        },
        "id": "K0w60lQvh2kM",
        "outputId": "f466a9fe-80ac-4ac0-e22a-e1222ad9f0d0"
      },
      "execution_count": 16,
      "outputs": [
        {
          "output_type": "stream",
          "name": "stdout",
          "text": [
            "Requirement already satisfied: QuantLib in /usr/local/lib/python3.10/dist-packages (1.36)\n"
          ]
        }
      ]
    },
    {
      "cell_type": "code",
      "source": [
        "prices = {}"
      ],
      "metadata": {
        "id": "ZU4QCDszh6a8"
      },
      "execution_count": 17,
      "outputs": []
    },
    {
      "cell_type": "markdown",
      "source": [
        "Producing a single price"
      ],
      "metadata": {
        "id": "VVDLFMcQAyJR"
      }
    },
    {
      "cell_type": "code",
      "source": [
        "start_date = Date(8, February, 2023)\n",
        "maturity_date = start_date + Period(5, Years)\n",
        "schedule = Schedule(start_date, maturity_date, Period(Semiannual), TARGET(),\n",
        "                    Following, Following, DateGeneration.Backward, False)\n",
        "coupons = [0.01]*10\n",
        "# Specify the desired 30/360 convention, e.g., BondBasis\n",
        "bond = FixedRateBond(3, 100, schedule, coupons, Thirty360(Thirty360.BondBasis))"
      ],
      "metadata": {
        "id": "iUa6ttDDh9PG"
      },
      "execution_count": 18,
      "outputs": []
    },
    {
      "cell_type": "code",
      "source": [
        "today = Date(9, May, 2025)\n",
        "nodes = [ today + Period(i, Years) for i in range(11) ]\n",
        "rates = [ 0.007, 0.010, 0.012, 0.013, 0.014,\n",
        "         0.016, 0.017, 0.018, 0.020, 0.021, 0.022 ]\n",
        "discount_curve = ZeroCurve(nodes, rates, Actual360())"
      ],
      "metadata": {
        "id": "NfXOUKvZh_gi"
      },
      "execution_count": 19,
      "outputs": []
    },
    {
      "cell_type": "code",
      "source": [
        "discount_handle = RelinkableYieldTermStructureHandle(discount_curve)\n",
        "bond.setPricingEngine(DiscountingBondEngine(discount_handle))"
      ],
      "metadata": {
        "id": "4-NILrs7iBd2"
      },
      "execution_count": 20,
      "outputs": []
    },
    {
      "cell_type": "code",
      "source": [
        "Settings.instance().evaluationDate = today"
      ],
      "metadata": {
        "id": "5cO5sy_KiDuh"
      },
      "execution_count": 21,
      "outputs": []
    },
    {
      "cell_type": "code",
      "source": [
        "prices[today] = bond.cleanPrice()\n",
        "print(prices[today])"
      ],
      "metadata": {
        "colab": {
          "base_uri": "https://localhost:8080/"
        },
        "id": "w4M2Wc86iFyD",
        "outputId": "e24a45b0-0908-4ed6-b585-c2d552ae0327"
      },
      "execution_count": 22,
      "outputs": [
        {
          "output_type": "stream",
          "name": "stdout",
          "text": [
            "99.19344125301153\n"
          ]
        }
      ]
    },
    {
      "cell_type": "markdown",
      "source": [
        "Pricing on multiple days"
      ],
      "metadata": {
        "id": "N97wGvT2A1kG"
      }
    },
    {
      "cell_type": "code",
      "source": [
        "calendar = TARGET()\n",
        "yesterday = calendar.advance(today, -1, Days)"
      ],
      "metadata": {
        "id": "MTsseOnCiH2s"
      },
      "execution_count": 23,
      "outputs": []
    },
    {
      "cell_type": "code",
      "source": [
        "nodes = [ yesterday + Period(i, Years) for i in range(11) ]\n",
        "base_rates = np.array(rates)\n",
        "rates = base_rates * np.random.normal(loc=1.0, scale=0.005, size=base_rates.shape)\n",
        "discount_curve = ZeroCurve(nodes, list(rates), Actual360())"
      ],
      "metadata": {
        "id": "xP2t794jiJ0S"
      },
      "execution_count": 24,
      "outputs": []
    },
    {
      "cell_type": "code",
      "source": [
        "Settings.instance().evaluationDate = yesterday\n",
        "discount_handle.linkTo(discount_curve)"
      ],
      "metadata": {
        "id": "kLfBGqtEiMEk"
      },
      "execution_count": 25,
      "outputs": []
    },
    {
      "cell_type": "code",
      "source": [
        "prices[yesterday] = bond.cleanPrice()\n",
        "print(prices[yesterday])"
      ],
      "metadata": {
        "colab": {
          "base_uri": "https://localhost:8080/"
        },
        "id": "_yPLfkgIiN6r",
        "outputId": "e1b8ada6-4787-412d-d22d-17ee109d7348"
      },
      "execution_count": 26,
      "outputs": [
        {
          "output_type": "stream",
          "name": "stdout",
          "text": [
            "99.16907217591871\n"
          ]
        }
      ]
    },
    {
      "cell_type": "code",
      "source": [
        "first_date = calendar.advance(today, -1, Years)\n",
        "date = calendar.advance(yesterday, -1, Days)"
      ],
      "metadata": {
        "id": "572xQWmyiP55"
      },
      "execution_count": 27,
      "outputs": []
    },
    {
      "cell_type": "code",
      "source": [
        "if date >= first_date:\n",
        "    nodes = [ date + Period(i, Years) for i in range(11) ]\n",
        "    rates = base_rates * np.random.normal(loc=1.0, scale=0.005, size=base_rates.shape)\n",
        "    discount_curve = ZeroCurve(nodes, list(rates), Actual360())\n",
        "\n",
        "    Settings.instance().evaluationDate = date\n",
        "    discount_handle.linkTo(discount_curve)\n",
        "\n",
        "    prices[date] = bond.cleanPrice()\n",
        "    date = calendar.advance(date, -1, Days)\n",
        "\n",
        "    discount_curve = ZeroCurve(nodes, list(rates), Actual360())\n",
        "\n",
        "Settings.instance().evaluationDate = date\n",
        "discount_handle.linkTo(discount_curve)\n",
        "\n",
        "prices[date] = bond.cleanPrice()\n",
        "date = calendar.advance(date, -1, Days)"
      ],
      "metadata": {
        "id": "jRC8T5YpiSHZ"
      },
      "execution_count": 29,
      "outputs": []
    },
    {
      "cell_type": "code",
      "source": [
        "!pip install utils\n",
        "%matplotlib inline\n",
        "import utils"
      ],
      "metadata": {
        "colab": {
          "base_uri": "https://localhost:8080/"
        },
        "id": "orAxo7x1ifsB",
        "outputId": "d09eb0e3-175d-412e-dd8a-9f501f352e64"
      },
      "execution_count": 30,
      "outputs": [
        {
          "output_type": "stream",
          "name": "stdout",
          "text": [
            "Collecting utils\n",
            "  Downloading utils-1.0.2.tar.gz (13 kB)\n",
            "  Preparing metadata (setup.py) ... \u001b[?25l\u001b[?25hdone\n",
            "Building wheels for collected packages: utils\n",
            "  Building wheel for utils (setup.py) ... \u001b[?25l\u001b[?25hdone\n",
            "  Created wheel for utils: filename=utils-1.0.2-py2.py3-none-any.whl size=13906 sha256=221fd43806e44be9f5bc4b33ec127d1acbb763d6402bf54df01e9d0b4fa98a45\n",
            "  Stored in directory: /root/.cache/pip/wheels/b8/39/f5/9d0ca31dba85773ececf0a7f5469f18810e1c8a8ed9da28ca7\n",
            "Successfully built utils\n",
            "Installing collected packages: utils\n",
            "Successfully installed utils-1.0.2\n"
          ]
        }
      ]
    },
    {
      "cell_type": "code",
      "source": [
        "dates, values = zip(*sorted(prices.items()))"
      ],
      "metadata": {
        "id": "tQpC4RJfik-e"
      },
      "execution_count": 32,
      "outputs": []
    },
    {
      "cell_type": "markdown",
      "source": [
        "Using quotes"
      ],
      "metadata": {
        "id": "1i1FSaaABGSj"
      }
    },
    {
      "source": [
        "!pip install matplotlib\n",
        "import matplotlib.pyplot as plt\n",
        "import matplotlib.dates as mdates\n",
        "from QuantLib import Date\n",
        "\n",
        "# ... your existing code ...\n",
        "\n",
        "# Plot setup\n",
        "fig, ax = plt.subplots()\n",
        "ax.xaxis.set_major_formatter(mdates.DateFormatter('%Y-%m-%d'))  # Example date format\n",
        "\n",
        "# Convert QuantLib Dates to Python datetime objects\n",
        "python_dates = [d.to_date() for d in dates]\n",
        "\n",
        "# Now use python_dates for plotting\n",
        "ax.plot_date(python_dates, values, '-')\n",
        "plt.show()"
      ],
      "cell_type": "code",
      "metadata": {
        "colab": {
          "base_uri": "https://localhost:8080/",
          "height": 630
        },
        "id": "wrhVRVPwi_cf",
        "outputId": "cfb7c97a-24ad-4087-936c-1295a0becc7c"
      },
      "execution_count": 35,
      "outputs": [
        {
          "output_type": "stream",
          "name": "stdout",
          "text": [
            "Requirement already satisfied: matplotlib in /usr/local/lib/python3.10/dist-packages (3.7.1)\n",
            "Requirement already satisfied: contourpy>=1.0.1 in /usr/local/lib/python3.10/dist-packages (from matplotlib) (1.3.0)\n",
            "Requirement already satisfied: cycler>=0.10 in /usr/local/lib/python3.10/dist-packages (from matplotlib) (0.12.1)\n",
            "Requirement already satisfied: fonttools>=4.22.0 in /usr/local/lib/python3.10/dist-packages (from matplotlib) (4.54.1)\n",
            "Requirement already satisfied: kiwisolver>=1.0.1 in /usr/local/lib/python3.10/dist-packages (from matplotlib) (1.4.7)\n",
            "Requirement already satisfied: numpy>=1.20 in /usr/local/lib/python3.10/dist-packages (from matplotlib) (1.26.4)\n",
            "Requirement already satisfied: packaging>=20.0 in /usr/local/lib/python3.10/dist-packages (from matplotlib) (24.1)\n",
            "Requirement already satisfied: pillow>=6.2.0 in /usr/local/lib/python3.10/dist-packages (from matplotlib) (10.4.0)\n",
            "Requirement already satisfied: pyparsing>=2.3.1 in /usr/local/lib/python3.10/dist-packages (from matplotlib) (3.2.0)\n",
            "Requirement already satisfied: python-dateutil>=2.7 in /usr/local/lib/python3.10/dist-packages (from matplotlib) (2.8.2)\n",
            "Requirement already satisfied: six>=1.5 in /usr/local/lib/python3.10/dist-packages (from python-dateutil>=2.7->matplotlib) (1.16.0)\n"
          ]
        },
        {
          "output_type": "display_data",
          "data": {
            "text/plain": [
              "<Figure size 640x480 with 1 Axes>"
            ],
            "image/png": "[encoded data removed]"
          },
          "metadata": {}
        }
      ]
    },
    {
      "source": [
        "!pip install --upgrade QuantLib-Python  # Ensure QuantLib is upgraded\n",
        "from QuantLib import Eonia, Period, Years, SimpleQuote, QuoteHandle, FedFunds,OISRateHelper # Import necessary modules including OISRateHelper\n",
        "# UISRateHelper has been removed in the version 1.28 of QuantLib. As an alternative OISRateHelper can be used.\n",
        "\n",
        "index = Eonia()\n",
        "tenors = [Period(i, Years) for i in range(1, 11)]\n",
        "rates = [0.010, 0.012, 0.013, 0.014, 0.016, 0.017, 0.018, 0.020, 0.021, 0.022]\n",
        "\n",
        "quotes = []\n",
        "helpers = []\n",
        "for tenor, rate in zip(tenors, rates):\n",
        "    q = SimpleQuote(rate)\n",
        "    # Use OISRateHelper instead of UISRateHelper\n",
        "    #h = UISRateHelper(2, tenor, QuoteHandle(q), index)\n",
        "    h = OISRateHelper(2, tenor, QuoteHandle(q), index) # replaced UISRateHelper with OISRateHelper as alternative\n",
        "    quotes.append(q)\n",
        "    helpers.append(h)"
      ],
      "cell_type": "code",
      "metadata": {
        "colab": {
          "base_uri": "https://localhost:8080/"
        },
        "id": "Itowq-52jjw5",
        "outputId": "263579fe-b1ce-43b4-ec7e-06bd522242a4"
      },
      "execution_count": 39,
      "outputs": [
        {
          "output_type": "stream",
          "name": "stdout",
          "text": [
            "Requirement already satisfied: QuantLib-Python in /usr/local/lib/python3.10/dist-packages (1.18)\n",
            "Requirement already satisfied: QuantLib in /usr/local/lib/python3.10/dist-packages (from QuantLib-Python) (1.36)\n"
          ]
        }
      ]
    },
    {
      "source": [
        "!pip install QuantLib-Python\n",
        "from QuantLib import PiecewiseFlatForward, TARGET, Actual360  # Import required classes\n",
        "# Assuming 'Helpers' is defined and contains the necessary rate helpers\n",
        "\n",
        "risk_free_curve = PiecewiseFlatForward(0, TARGET(), helpers, Actual360())\n",
        "# Changed 'Helpers' to 'helpers' assuming it refers to the list created earlier"
      ],
      "cell_type": "code",
      "metadata": {
        "colab": {
          "base_uri": "https://localhost:8080/"
        },
        "id": "uyyZOrv0jwJB",
        "outputId": "8f8aa81c-1b77-40e0-e5fe-a4c4d27ad05b"
      },
      "execution_count": 41,
      "outputs": [
        {
          "output_type": "stream",
          "name": "stdout",
          "text": [
            "Requirement already satisfied: QuantLib-Python in /usr/local/lib/python3.10/dist-packages (1.18)\n",
            "Requirement already satisfied: QuantLib in /usr/local/lib/python3.10/dist-packages (from QuantLib-Python) (1.36)\n"
          ]
        }
      ]
    },
    {
      "source": [
        "!pip install QuantLib-Python\n",
        "from QuantLib import PiecewiseFlatForward, TARGET, Actual360, ZeroSpreadedTermStructure, YieldTermStructureHandle, QuoteHandle, SimpleQuote # Import ZeroSpreadedTermStructure\n",
        "# Assuming 'Helpers' is defined and contains the necessary rate helpers\n",
        "\n",
        "risk_free_curve = PiecewiseFlatForward(0, TARGET(), helpers, Actual360())\n",
        "# Changed 'Helpers' to 'helpers' assuming it refers to the list created earlier\n",
        "\n",
        "spread = SimpleQuote(0.01)\n",
        "# Use ZeroSpreadedTermStructure instead of ZeroSpreaTermStructure\n",
        "discount_curve = ZeroSpreadedTermStructure(YieldTermStructureHandle(risk_free_curve),\n",
        "                                         QuoteHandle(spread))"
      ],
      "cell_type": "code",
      "metadata": {
        "colab": {
          "base_uri": "https://localhost:8080/"
        },
        "id": "M-IBZWUbkAwk",
        "outputId": "bb079734-e788-4d55-9e95-de4231a8b64f"
      },
      "execution_count": 44,
      "outputs": [
        {
          "output_type": "stream",
          "name": "stdout",
          "text": [
            "Requirement already satisfied: QuantLib-Python in /usr/local/lib/python3.10/dist-packages (1.18)\n",
            "Requirement already satisfied: QuantLib in /usr/local/lib/python3.10/dist-packages (from QuantLib-Python) (1.36)\n"
          ]
        }
      ]
    },
    {
      "cell_type": "code",
      "source": [
        "prices = {}\n",
        "\n",
        "Settings.instance().evaluationDate = today\n",
        "discount_handle.linkTo(discount_curve)\n",
        "\n",
        "prices[today] = bond.cleanPrice()\n",
        "print(prices[today])"
      ],
      "metadata": {
        "colab": {
          "base_uri": "https://localhost:8080/"
        },
        "id": "f-QPa2PxkHi8",
        "outputId": "7b178af6-a275-47af-9f27-db165b4ffa49"
      },
      "execution_count": 45,
      "outputs": [
        {
          "output_type": "stream",
          "name": "stdout",
          "text": [
            "96.51348214387225\n"
          ]
        }
      ]
    },
    {
      "source": [
        "date = calendar.advance(today, -1, Days)\n",
        "\n",
        "base_rates = np.array(rates)\n",
        "rates = base_rates.copy() # Create a copy of base_rates and assign it to rates\n",
        "\n",
        "while date >= first_date:\n",
        "    rates = base_rates * np.random.normal(loc=1.0, scale=0.005, size=base_rates.shape)\n",
        "    for q, r in zip(quotes, rates):\n",
        "        q.setValue(r)\n",
        "\n",
        "    Settings.instance().evaluationDate = date\n",
        "    discount_handle.linkTo(discount_curve)\n",
        "\n",
        "    prices[date] = bond.cleanPrice()\n",
        "    date = calendar.advance(date, -1, Days)"
      ],
      "cell_type": "code",
      "metadata": {
        "id": "9uhd25BBlHay"
      },
      "execution_count": 55,
      "outputs": []
    },
    {
      "source": [
        "import matplotlib.pyplot as plt\n",
        "import matplotlib.dates as mdates\n",
        "import datetime\n",
        "\n",
        "# ... (your existing code) ...\n",
        "\n",
        "def to_datetime(d):\n",
        "    return datetime.datetime(d.year(), d.month(), d.dayOfMonth())\n",
        "\n",
        "def date_formatter():\n",
        "    return mdates.DateFormatter('%Y-%m-%d')\n",
        "\n",
        "def plot():\n",
        "    fig, ax = plt.subplots()\n",
        "    return fig, ax\n",
        "\n",
        "dates, values = zip(*sorted(prices.items()))\n",
        "\n",
        "fig, ax = plot()  # Call the newly defined plot function\n",
        "ax.xaxis.set_major_formatter(date_formatter())\n",
        "ax.plot_date([to_datetime(d) for d in dates], values, '-')\n",
        "plt.show()"
      ],
      "cell_type": "code",
      "metadata": {
        "colab": {
          "base_uri": "https://localhost:8080/",
          "height": 430
        },
        "id": "SW00fR9Km-B-",
        "outputId": "65d025e2-595c-4432-801e-382bdbbe143d"
      },
      "execution_count": 58,
      "outputs": [
        {
          "output_type": "display_data",
          "data": {
            "text/plain": [
              "<Figure size 640x480 with 1 Axes>"
            ],
            "image/png": "[encoded data removed]"
          },
          "metadata": {}
        }
      ]
    },
    {
      "cell_type": "markdown",
      "source": [
        "A complication: past fixings"
      ],
      "metadata": {
        "id": "OR1-DmyJBKxi"
      }
    },
    {
      "source": [
        "from QuantLib import Thirty360, FloatingRateBond, DiscountingBondEngine, YieldTermStructureHandle, Euribor6M\n",
        "# Import necessary classes\n",
        "\n",
        "# ... (your existing code) ...\n",
        "\n",
        "forecast_handle = YieldTermStructureHandle(risk_free_curve)\n",
        "index = Euribor6M(forecast_handle)\n",
        "\n",
        "# Specify the desired convention for Thirty360\n",
        "# For example, using Thirty360.BondBasis:\n",
        "bond = FloatingRateBond(3, 100, schedule, index, Thirty360(Thirty360.BondBasis))\n",
        "# Pass Thirty360.BondBasis as an argument to Thirty360\n",
        "\n",
        "bond.setPricingEngine(DiscountingBondEngine(discount_handle))"
      ],
      "cell_type": "code",
      "metadata": {
        "id": "RcCK_iKo8Nwo"
      },
      "execution_count": 60,
      "outputs": []
    },
    {
      "source": [
        "Settings.instance().evaluationDate = today\n",
        "for q, r in zip(quotes, base_rates):\n",
        "    q.setValue(r)\n",
        "spread.setValue(0.01) # Corrected indentation"
      ],
      "cell_type": "code",
      "metadata": {
        "id": "HcV9ZyTE8taD"
      },
      "execution_count": 72,
      "outputs": []
    },
    {
      "cell_type": "markdown",
      "source": [
        "# More complications: future prices"
      ],
      "metadata": {
        "id": "V7X9Tr_OBPJk"
      }
    },
    {
      "source": [
        "from QuantLib import Thirty360, FloatingRateBond, DiscountingBondEngine, YieldTermStructureHandle, Euribor6M, Settings, Date\n",
        "# Import necessary classes and Date\n",
        "\n",
        "# ... (your existing code) ...\n",
        "\n",
        "# Add the missing fixing:\n",
        "fixing_date = Date(4, 8, 2023)  # Specify the missing fixing date (August 4th, 2023)\n",
        "fixing_rate = 0.02  # Replace with the actual fixing rate for that date\n",
        "index.addFixing(fixing_date, fixing_rate)\n",
        "\n",
        "#OR\n",
        "\n",
        "# Ensure that Settings.instance().evaluationDate is a date where the rate can be determined.\n",
        "# For example, If today is later than August 4th, 2023, then change today's date to be before it.\n",
        "today = Date(3, 8, 2023) # Set today's date to before the missing fixing date\n",
        "Settings.instance().evaluationDate = today\n",
        "\n",
        "# Continue with your existing code:\n",
        "bond = FloatingRateBond(3, 100, schedule, index, Thirty360(Thirty360.BondBasis))\n",
        "# Pass Thirty360.BondBasis as an argument to Thirty360\n",
        "\n",
        "bond.setPricingEngine(DiscountingBondEngine(discount_handle))\n",
        "\n",
        "print(bond.cleanPrice())"
      ],
      "cell_type": "code",
      "metadata": {
        "colab": {
          "base_uri": "https://localhost:8080/"
        },
        "id": "gzSqPZAq-aXr",
        "outputId": "816e410e-e2da-43ae-8c80-e55fb885a1f8"
      },
      "execution_count": 77,
      "outputs": [
        {
          "output_type": "stream",
          "name": "stdout",
          "text": [
            "95.54518169754905\n"
          ]
        }
      ]
    },
    {
      "cell_type": "code",
      "source": [
        "index.addFixing(Date(6, February,2023), 0.005)\n",
        "print(bond.cleanPrice())"
      ],
      "metadata": {
        "colab": {
          "base_uri": "https://localhost:8080/"
        },
        "id": "wtgSvp6C9_t5",
        "outputId": "28ca207c-671a-46a2-d487-6a46412d28d0"
      },
      "execution_count": 79,
      "outputs": [
        {
          "output_type": "stream",
          "name": "stdout",
          "text": [
            "95.54518169754905\n"
          ]
        }
      ]
    },
    {
      "cell_type": "code",
      "source": [
        "Settings.instance().evaluationDate = Date(1, March, 2023)\n",
        "print(bond.cleanPrice())\n",
        "\n",
        "Settings.instance().evaluationDate = Date(1, April, 2023)\n",
        "print(bond.cleanPrice())"
      ],
      "metadata": {
        "colab": {
          "base_uri": "https://localhost:8080/"
        },
        "id": "ePuFvPG7-vce",
        "outputId": "bd82975a-7540-47bd-877f-1c48b7cad1e9"
      },
      "execution_count": 80,
      "outputs": [
        {
          "output_type": "stream",
          "name": "stdout",
          "text": [
            "94.9445427441704\n",
            "95.06071943650744\n"
          ]
        }
      ]
    },
    {
      "cell_type": "code",
      "source": [
        "Settings.instance().evaluationDate = Date(1, May, 2023)\n",
        "print(bond.cleanPrice())"
      ],
      "metadata": {
        "colab": {
          "base_uri": "https://localhost:8080/"
        },
        "id": "zMhxSZrS_MGg",
        "outputId": "6504e431-7e39-4192-cf7b-281429c8489b"
      },
      "execution_count": 81,
      "outputs": [
        {
          "output_type": "stream",
          "name": "stdout",
          "text": [
            "95.17208218741078\n"
          ]
        }
      ]
    },
    {
      "cell_type": "code",
      "source": [
        "index.addFixing(Date(1, June, 2023), 0.005)\n",
        "print(bond.cleanPrice())"
      ],
      "metadata": {
        "colab": {
          "base_uri": "https://localhost:8080/"
        },
        "id": "ILft5oOc_P6S",
        "outputId": "735467cb-acb4-4b71-961b-885151b8b73f"
      },
      "execution_count": 82,
      "outputs": [
        {
          "output_type": "stream",
          "name": "stdout",
          "text": [
            "95.17208218741078\n"
          ]
        }
      ]
    },
    {
      "cell_type": "code",
      "source": [
        "Settings.instance().evaluationDate = Date(1, July, 2023)\n",
        "print(bond.cleanPrice())"
      ],
      "metadata": {
        "colab": {
          "base_uri": "https://localhost:8080/"
        },
        "id": "LpHHEpL1_WRF",
        "outputId": "0aaf7f59-452a-4414-c405-ec143f6fe31a"
      },
      "execution_count": 83,
      "outputs": [
        {
          "output_type": "stream",
          "name": "stdout",
          "text": [
            "95.41231679702825\n"
          ]
        }
      ]
    },
    {
      "cell_type": "code",
      "source": [
        "Settings.instance().evaluationDate = Date(1, August, 2023)\n",
        "print(bond.cleanPrice())"
      ],
      "metadata": {
        "colab": {
          "base_uri": "https://localhost:8080/"
        },
        "id": "V4sHUXpc_bYm",
        "outputId": "ba2d0cf6-2f17-4160-f9ed-694822591038"
      },
      "execution_count": 84,
      "outputs": [
        {
          "output_type": "stream",
          "name": "stdout",
          "text": [
            "95.52971346315404\n"
          ]
        }
      ]
    },
    {
      "cell_type": "code",
      "source": [
        "Settings.instance().evaluationDate = Date(1, September, 2023)\n",
        "\n",
        "future_fixing = index.fixing(Date(1, September, 2023))\n",
        "print(future_fixing)\n",
        "index.addFixing(Date(1, September, 2023), future_fixing)\n",
        "\n",
        "print(bond.cleanPrice())"
      ],
      "metadata": {
        "colab": {
          "base_uri": "https://localhost:8080/"
        },
        "id": "klu4i9z5_eFN",
        "outputId": "62d1dd5d-8ec0-4b3c-9c06-294605a3c1e0"
      },
      "execution_count": 85,
      "outputs": [
        {
          "output_type": "stream",
          "name": "stdout",
          "text": [
            "0.009928536702269636\n",
            "96.04312878011497\n"
          ]
        }
      ]
    },
    {
      "cell_type": "code",
      "source": [
        "Settings.instance().evaluationDate = Date(1, October, 2023)\n",
        "print(bond.cleanPrice())"
      ],
      "metadata": {
        "colab": {
          "base_uri": "https://localhost:8080/"
        },
        "id": "mYFnfQD6_r4K",
        "outputId": "4012810a-7f8b-4e97-dd38-fa74fb8773b2"
      },
      "execution_count": 86,
      "outputs": [
        {
          "output_type": "stream",
          "name": "stdout",
          "text": [
            "96.03758451981606\n"
          ]
        }
      ]
    },
    {
      "cell_type": "code",
      "source": [
        "index.addFixing(Date(1, November, 2023), 0.005)\n",
        "\n",
        "Settings.instance().evaluationDate = Date(1, December, 2023)\n",
        "print(index.fixing(Date(3, October, 2030)))"
      ],
      "metadata": {
        "colab": {
          "base_uri": "https://localhost:8080/"
        },
        "id": "FTWubaC__v1T",
        "outputId": "5467a1e4-52bc-4ae8-f302-f069c0f8464e"
      },
      "execution_count": 87,
      "outputs": [
        {
          "output_type": "stream",
          "name": "stdout",
          "text": [
            "0.03119487767010717\n"
          ]
        }
      ]
    },
    {
      "cell_type": "code",
      "source": [
        "Settings.instance().evaluationDate = Date(1, January, 2024)\n",
        "print(index.fixing(Date(3, October, 2030)))"
      ],
      "metadata": {
        "colab": {
          "base_uri": "https://localhost:8080/"
        },
        "id": "--GoRdaBATk3",
        "outputId": "284e6059-36c1-4659-fc12-460909f5e27a"
      },
      "execution_count": 88,
      "outputs": [
        {
          "output_type": "stream",
          "name": "stdout",
          "text": [
            "0.02947185940996862\n"
          ]
        }
      ]
    },
    {
      "cell_type": "code",
      "source": [],
      "metadata": {
        "id": "0n29aEJvAb73"
      },
      "execution_count": null,
      "outputs": []
    }
  ],
  "metadata": {
    "colab": {
      "name": "Welcome To Colab",
      "provenance": []
    },
    "kernelspec": {
      "display_name": "Python 3",
      "name": "python3"
    }
  },
  "nbformat": 4,
  "nbformat_minor": 0
}